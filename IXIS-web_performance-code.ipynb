{
 "cells": [
  {
   "cell_type": "code",
   "execution_count": 1,
   "id": "359452e6",
   "metadata": {},
   "outputs": [],
   "source": [
    "import os\n",
    "import pandas as pd\n",
    "import numpy as np\n",
    "from datetime import datetime\n",
    "import openpyxl"
   ]
  },
  {
   "cell_type": "code",
   "execution_count": 2,
   "id": "6a578450",
   "metadata": {},
   "outputs": [],
   "source": [
    "##DO Cleaning\n",
    "df = pd.read_csv('DataAnalyst_Ecom_data_sessionCounts.csv')\n",
    "df['dim_date'] = df['dim_date'].str.replace('/','-')\n",
    "df[['Month','Day','Year']] = df['dim_date'].str.split('-', expand=True)\n",
    "\n",
    "cols = ['Month','Day','Year']\n",
    "df[cols] = df[cols].apply(pd.to_numeric, errors='coerce', axis=1)\n",
    "df.loc[df['Year'] < 2000, 'Year'] = df['Year']+ 2000\n",
    "\n",
    "df['Month'] = df['Month'].apply(lambda x: '{0:0>2}'.format(x))\n",
    "df['Day'] = df['Day'].apply(lambda x: '{0:0>2}'.format(x))\n",
    "df['Date'] = df['Day'].map(str)+'/'+df['Month'].map(str)+'/'+df['Year'].map(str)\n",
    "df['Date']=pd.to_datetime(df['Date'],format='mixed',dayfirst=True)\n",
    "\n",
    "df_copy=df.copy()\n",
    "df_copy['key']=df_copy['Month'].map(str)+'-'+df_copy['Year'].map(str)"
   ]
  },
  {
   "cell_type": "code",
   "execution_count": 3,
   "id": "813c150a",
   "metadata": {},
   "outputs": [],
   "source": [
    "# #sheet 1\n",
    "df_copy1=df_copy[['key','dim_deviceCategory','sessions','transactions', 'QTY']]\n",
    "df_clean=df_copy1.groupby(['key','dim_deviceCategory']).sum().reset_index()\n",
    "df_clean['ECR'] = df_clean['transactions']/df_clean['sessions'].replace(np.inf, 0).round()"
   ]
  },
  {
   "cell_type": "code",
   "execution_count": 4,
   "id": "bca73db2",
   "metadata": {},
   "outputs": [
    {
     "name": "stderr",
     "output_type": "stream",
     "text": [
      "C:\\Users\\Shivangi\\AppData\\Local\\Temp\\ipykernel_12704\\3725308299.py:10: SettingWithCopyWarning: \n",
      "A value is trying to be set on a copy of a slice from a DataFrame.\n",
      "Try using .loc[row_indexer,col_indexer] = value instead\n",
      "\n",
      "See the caveats in the documentation: https://pandas.pydata.org/pandas-docs/stable/user_guide/indexing.html#returning-a-view-versus-a-copy\n",
      "  df5['Value']=df5['transactions']*df5['QTY']\n",
      "C:\\Users\\Shivangi\\AppData\\Local\\Temp\\ipykernel_12704\\3725308299.py:11: SettingWithCopyWarning: \n",
      "A value is trying to be set on a copy of a slice from a DataFrame.\n",
      "Try using .loc[row_indexer,col_indexer] = value instead\n",
      "\n",
      "See the caveats in the documentation: https://pandas.pydata.org/pandas-docs/stable/user_guide/indexing.html#returning-a-view-versus-a-copy\n",
      "  df5['key_c'] = pd.to_datetime(df5['key_c'],format='%m-%Y')\n",
      "C:\\Users\\Shivangi\\AppData\\Local\\Temp\\ipykernel_12704\\3725308299.py:12: SettingWithCopyWarning: \n",
      "A value is trying to be set on a copy of a slice from a DataFrame\n",
      "\n",
      "See the caveats in the documentation: https://pandas.pydata.org/pandas-docs/stable/user_guide/indexing.html#returning-a-view-versus-a-copy\n",
      "  df5.sort_values(by='key_c',ascending=True,inplace=True)\n",
      "C:\\Users\\Shivangi\\AppData\\Local\\Temp\\ipykernel_12704\\3725308299.py:13: SettingWithCopyWarning: \n",
      "A value is trying to be set on a copy of a slice from a DataFrame.\n",
      "Try using .loc[row_indexer,col_indexer] = value instead\n",
      "\n",
      "See the caveats in the documentation: https://pandas.pydata.org/pandas-docs/stable/user_guide/indexing.html#returning-a-view-versus-a-copy\n",
      "  df5['%-change-Value']=df5['Value'].pct_change()\n"
     ]
    }
   ],
   "source": [
    "#sheet 2\n",
    "df2=df_copy[['Month','Year','key','sessions','transactions','QTY']].apply(pd.to_numeric,errors='ignore')\n",
    "df3=df2.groupby(['Month','Year','key']).sum().reset_index()\n",
    "df3['ECR'] = df3['transactions']/df3['sessions'].replace(np.inf, 0).round()\n",
    "df_add_cart = pd.read_csv('DataAnalyst_Ecom_data_addsToCart.csv')\n",
    "df_add_cart['dim_month'] = df_add_cart['dim_month'].apply(lambda x: '{0:0>2}'.format(x))\n",
    "df_add_cart['key_c']=df_add_cart['dim_month'].map(str)+'-'+df_add_cart['dim_year'].map(str)\n",
    "df_merge=pd.merge(df3,df_add_cart,left_on='key',right_on='key_c')\n",
    "df5=df_merge[['key_c','Month','Year','sessions','transactions','QTY','ECR','addsToCart']]\n",
    "df5['Value']=df5['transactions']*df5['QTY']\n",
    "df5['key_c'] = pd.to_datetime(df5['key_c'],format='%m-%Y')\n",
    "df5.sort_values(by='key_c',ascending=True,inplace=True)\n",
    "df5['%-change-Value']=df5['Value'].pct_change()"
   ]
  },
  {
   "cell_type": "code",
   "execution_count": 5,
   "id": "fd8fd513",
   "metadata": {},
   "outputs": [],
   "source": [
    "#Extra analyssis\n",
    "df_browser=df_copy.groupby('dim_browser')[['sessions','transactions','QTY']].agg('sum')\n",
    "df_brow=pd.DataFrame(df_browser)\n",
    "df_brow=df_brow.sort_values('sessions',ascending=False).reset_index()"
   ]
  },
  {
   "cell_type": "code",
   "execution_count": 6,
   "id": "12fa3617",
   "metadata": {},
   "outputs": [],
   "source": [
    "#Write all above sheets into a Excel Workbook\n",
    "with pd.ExcelWriter('Assignment.xlsx') as writer:\n",
    "    df_clean.to_excel(writer, sheet_name='Month-x-Device',index=False)\n",
    "    df5.to_excel(writer, sheet_name='Month-on-Month-Comparison',index=False)\n",
    "    df_browser.to_excel(writer, sheet_name='BrowserVsKPI',index=True)"
   ]
  },
  {
   "cell_type": "code",
   "execution_count": null,
   "id": "eb13eed9",
   "metadata": {},
   "outputs": [],
   "source": []
  }
 ],
 "metadata": {
  "kernelspec": {
   "display_name": "Python 3 (ipykernel)",
   "language": "python",
   "name": "python3"
  },
  "language_info": {
   "codemirror_mode": {
    "name": "ipython",
    "version": 3
   },
   "file_extension": ".py",
   "mimetype": "text/x-python",
   "name": "python",
   "nbconvert_exporter": "python",
   "pygments_lexer": "ipython3",
   "version": "3.11.3"
  }
 },
 "nbformat": 4,
 "nbformat_minor": 5
}
